{
 "cells": [
  {
   "cell_type": "code",
   "execution_count": 2,
   "metadata": {},
   "outputs": [],
   "source": [
    "damages = ['Damages not recorded', '100M', 'Damages not recorded', '40M', '27.9M', '5M', 'Damages not recorded', '306M', '2M', '65.8M', '326M', '60.3M', '208M', '1.42B', '25.4M', 'Damages not recorded', '1.54B', '1.24B', '7.1B', '10B', '26.5B', '6.2B', '5.37B', '23.3B', '1.01B', '125B', '12B', '29.4B', '1.76B', '720M', '15.1B', '64.8B', '91.6B', '25.1B']"
   ]
  },
  {
   "cell_type": "code",
   "execution_count": 3,
   "metadata": {},
   "outputs": [],
   "source": [
    "conversion = {\"M\": 1000000, \"B\": 1000000000}"
   ]
  },
  {
   "cell_type": "code",
   "execution_count": 4,
   "metadata": {},
   "outputs": [],
   "source": [
    "def convert_damages(mylist):\n",
    "    new_list = []\n",
    "    stored_value = ''\n",
    "    for i in range(len(mylist)):\n",
    "        if mylist[i] == \"Damages not recorded\":\n",
    "            new_list.append(\"Damages not recorded\")\n",
    "        elif mylist[i].find('M') > 0:\n",
    "            stored_value = mylist[i]\n",
    "            new_list.append(float(stored_value.replace('M','')) * conversion[\"M\"])\n",
    "        else:\n",
    "            stored_value = mylist[i]\n",
    "            new_list.append(float(stored_value.replace('B','')) * conversion[\"B\"])\n",
    "    return new_list"
   ]
  },
  {
   "cell_type": "code",
   "execution_count": 5,
   "metadata": {},
   "outputs": [],
   "source": [
    "converted_damages = convert_damages(damages)"
   ]
  },
  {
   "cell_type": "code",
   "execution_count": 6,
   "metadata": {},
   "outputs": [
    {
     "name": "stdout",
     "output_type": "stream",
     "text": [
      "['Damages not recorded', 100000000.0, 'Damages not recorded', 40000000.0, 27900000.0, 5000000.0, 'Damages not recorded', 306000000.0, 2000000.0, 65800000.0, 326000000.0, 60300000.0, 208000000.0, 1420000000.0, 25400000.0, 'Damages not recorded', 1540000000.0, 1240000000.0, 7100000000.0, 10000000000.0, 26500000000.0, 6200000000.0, 5370000000.0, 23300000000.0, 1010000000.0, 125000000000.0, 12000000000.0, 29400000000.0, 1760000000.0, 720000000.0, 15100000000.0, 64800000000.0, 91600000000.0, 25100000000.0]\n"
     ]
    }
   ],
   "source": [
    "print(converted_damages)"
   ]
  },
  {
   "cell_type": "code",
   "execution_count": 7,
   "metadata": {},
   "outputs": [],
   "source": [
    "names = ['Cuba I', 'San Felipe II Okeechobee', 'Bahamas', 'Cuba II', 'CubaBrownsville', 'Tampico', 'Labor Day', 'New England', 'Carol', 'Janet', 'Carla', 'Hattie', 'Beulah', 'Camille', 'Edith', 'Anita', 'David', 'Allen', 'Gilbert', 'Hugo', 'Andrew', 'Mitch', 'Isabel', 'Ivan', 'Emily', 'Katrina', 'Rita', 'Wilma', 'Dean', 'Felix', 'Matthew', 'Irma', 'Maria', 'Michael']"
   ]
  },
  {
   "cell_type": "code",
   "execution_count": 89,
   "metadata": {},
   "outputs": [],
   "source": [
    "months = ['October', 'September', 'September', 'November', 'August', 'September', 'September', 'September', 'September', 'September', 'September', 'October', 'September', 'August', 'September', 'September', 'August', 'August', 'September', 'September', 'August', 'October', 'September', 'September', 'July', 'August', 'September', 'October', 'August', 'September', 'October', 'September', 'September', 'October']\n",
    "years = [1924, 1928, 1932, 1932, 1933, 1933, 1935, 1938, 1953, 1955, 1961, 1961, 1967, 1969, 1971, 1977, 1979, 1980, 1988, 1989, 1992, 1998, 2003, 2004, 2005, 2005, 2005, 2005, 2007, 2007, 2016, 2017, 2017, 2018]\n",
    "max_sustained_winds = [165, 160, 160, 175, 160, 160, 185, 160, 160, 175, 175, 160, 160, 175, 160, 175, 175, 190, 185, 160, 175, 180, 165, 165, 160, 175, 180, 185, 175, 175, 165, 180, 175, 160]\n",
    "areas_affected = [['Central America', 'Mexico', 'Cuba', 'Florida', 'The Bahamas'], ['Lesser Antilles', 'The Bahamas', 'United States East Coast', 'Atlantic Canada'], ['The Bahamas', 'Northeastern United States'], ['Lesser Antilles', 'Jamaica', 'Cayman Islands', 'Cuba', 'The Bahamas', 'Bermuda'], ['The Bahamas', 'Cuba', 'Florida', 'Texas', 'Tamaulipas'], ['Jamaica', 'Yucatn Peninsula'], ['The Bahamas', 'Florida', 'Georgia', 'The Carolinas', 'Virginia'], ['Southeastern United States', 'Northeastern United States', 'Southwestern Quebec'], ['Bermuda', 'New England', 'Atlantic Canada'], ['Lesser Antilles', 'Central America'], ['Texas', 'Louisiana', 'Midwestern United States'], ['Central America'], ['The Caribbean', 'Mexico', 'Texas'], ['Cuba', 'United States Gulf Coast'], ['The Caribbean', 'Central America', 'Mexico', 'United States Gulf Coast'], ['Mexico'], ['The Caribbean', 'United States East coast'], ['The Caribbean', 'Yucatn Peninsula', 'Mexico', 'South Texas'], ['Jamaica', 'Venezuela', 'Central America', 'Hispaniola', 'Mexico'], ['The Caribbean', 'United States East Coast'], ['The Bahamas', 'Florida', 'United States Gulf Coast'], ['Central America', 'Yucatn Peninsula', 'South Florida'], ['Greater Antilles', 'Bahamas', 'Eastern United States', 'Ontario'], ['The Caribbean', 'Venezuela', 'United States Gulf Coast'], ['Windward Islands', 'Jamaica', 'Mexico', 'Texas'], ['Bahamas', 'United States Gulf Coast'], ['Cuba', 'United States Gulf Coast'], ['Greater Antilles', 'Central America', 'Florida'], ['The Caribbean', 'Central America'], ['Nicaragua', 'Honduras'], ['Antilles', 'Venezuela', 'Colombia', 'United States East Coast', 'Atlantic Canada'], ['Cape Verde', 'The Caribbean', 'British Virgin Islands', 'U.S. Virgin Islands', 'Cuba', 'Florida'], ['Lesser Antilles', 'Virgin Islands', 'Puerto Rico', 'Dominican Republic', 'Turks and Caicos Islands'], ['Central America', 'United States Gulf Coast (especially Florida Panhandle)']]\n",
    "deaths = [90,4000,16,3103,179,184,408,682,5,1023,43,319,688,259,37,11,2068,269,318,107,65,19325,51,124,17,1836,125,87,45,133,603,138,3057,74]"
   ]
  },
  {
   "cell_type": "code",
   "execution_count": 13,
   "metadata": {},
   "outputs": [],
   "source": [
    "def convert_to_dictionary(name, month, year,max_sustained_wind, area_affected, damage, death):\n",
    "    temp_dict = {}\n",
    "    for i in range(len(name)):\n",
    "        temp_dict[name[i]] = {'Name': name[i], 'Month': month[i], 'Year': year[i], 'Max Sustained Wind': max_sustained_wind[i], 'Areas Affected': area_affected[i], 'Damage': damage[i], 'Deaths': death[i]}\n",
    "    return temp_dict\n"
   ]
  },
  {
   "cell_type": "code",
   "execution_count": 14,
   "metadata": {},
   "outputs": [],
   "source": [
    "base_table = convert_to_dictionary(names, months, years, max_sustained_winds, areas_affected, converted_damages, deaths)"
   ]
  },
  {
   "cell_type": "code",
   "execution_count": 15,
   "metadata": {},
   "outputs": [
    {
     "data": {
      "text/plain": [
       "2005"
      ]
     },
     "execution_count": 15,
     "metadata": {},
     "output_type": "execute_result"
    }
   ],
   "source": [
    "base_table['Katrina']['Year']"
   ]
  },
  {
   "cell_type": "code",
   "execution_count": 38,
   "metadata": {},
   "outputs": [],
   "source": [
    "def dict_by_years(mytable):\n",
    "    temp_dict = {}\n",
    "    for key, value in mytable.items():\n",
    "        current_year = value['Year']\n",
    "        current_cane = value\n",
    "        temp_dict.setdefault(current_year, [])\n",
    "        temp_dict[current_year].append(current_cane)\n",
    "    return temp_dict"
   ]
  },
  {
   "cell_type": "code",
   "execution_count": 40,
   "metadata": {},
   "outputs": [],
   "source": [
    "canes_by_year = dict_by_years(base_table)"
   ]
  },
  {
   "cell_type": "code",
   "execution_count": 42,
   "metadata": {},
   "outputs": [
    {
     "data": {
      "text/plain": [
       "[{'Name': 'Emily',\n",
       "  'Month': 'July',\n",
       "  'Year': 2005,\n",
       "  'Max Sustained Wind': 160,\n",
       "  'Areas Affected': ['Windward Islands', 'Jamaica', 'Mexico', 'Texas'],\n",
       "  'Damage': 1010000000.0,\n",
       "  'Deaths': 17},\n",
       " {'Name': 'Katrina',\n",
       "  'Month': 'August',\n",
       "  'Year': 2005,\n",
       "  'Max Sustained Wind': 175,\n",
       "  'Areas Affected': ['Bahamas', 'United States Gulf Coast'],\n",
       "  'Damage': 125000000000.0,\n",
       "  'Deaths': 1836},\n",
       " {'Name': 'Rita',\n",
       "  'Month': 'September',\n",
       "  'Year': 2005,\n",
       "  'Max Sustained Wind': 180,\n",
       "  'Areas Affected': ['Cuba', 'United States Gulf Coast'],\n",
       "  'Damage': 12000000000.0,\n",
       "  'Deaths': 125},\n",
       " {'Name': 'Wilma',\n",
       "  'Month': 'October',\n",
       "  'Year': 2005,\n",
       "  'Max Sustained Wind': 185,\n",
       "  'Areas Affected': ['Greater Antilles', 'Central America', 'Florida'],\n",
       "  'Damage': 29400000000.0,\n",
       "  'Deaths': 87}]"
      ]
     },
     "execution_count": 42,
     "metadata": {},
     "output_type": "execute_result"
    }
   ],
   "source": [
    "canes_by_year[2005]"
   ]
  },
  {
   "cell_type": "code",
   "execution_count": 46,
   "metadata": {},
   "outputs": [
    {
     "name": "stdout",
     "output_type": "stream",
     "text": [
      "['Central America', 'Mexico', 'Cuba', 'Florida', 'The Bahamas']\n",
      "['Lesser Antilles', 'The Bahamas', 'United States East Coast', 'Atlantic Canada']\n",
      "['The Bahamas', 'Northeastern United States']\n",
      "['Lesser Antilles', 'Jamaica', 'Cayman Islands', 'Cuba', 'The Bahamas', 'Bermuda']\n",
      "['The Bahamas', 'Cuba', 'Florida', 'Texas', 'Tamaulipas']\n",
      "['Jamaica', 'Yucatn Peninsula']\n",
      "['The Bahamas', 'Florida', 'Georgia', 'The Carolinas', 'Virginia']\n",
      "['Southeastern United States', 'Northeastern United States', 'Southwestern Quebec']\n",
      "['Bermuda', 'New England', 'Atlantic Canada']\n",
      "['Lesser Antilles', 'Central America']\n",
      "['Texas', 'Louisiana', 'Midwestern United States']\n",
      "['Central America']\n",
      "['The Caribbean', 'Mexico', 'Texas']\n",
      "['Cuba', 'United States Gulf Coast']\n",
      "['The Caribbean', 'Central America', 'Mexico', 'United States Gulf Coast']\n",
      "['Mexico']\n",
      "['The Caribbean', 'United States East coast']\n",
      "['The Caribbean', 'Yucatn Peninsula', 'Mexico', 'South Texas']\n",
      "['Jamaica', 'Venezuela', 'Central America', 'Hispaniola', 'Mexico']\n",
      "['The Caribbean', 'United States East Coast']\n",
      "['The Bahamas', 'Florida', 'United States Gulf Coast']\n",
      "['Central America', 'Yucatn Peninsula', 'South Florida']\n",
      "['Greater Antilles', 'Bahamas', 'Eastern United States', 'Ontario']\n",
      "['The Caribbean', 'Venezuela', 'United States Gulf Coast']\n",
      "['Windward Islands', 'Jamaica', 'Mexico', 'Texas']\n",
      "['Bahamas', 'United States Gulf Coast']\n",
      "['Cuba', 'United States Gulf Coast']\n",
      "['Greater Antilles', 'Central America', 'Florida']\n",
      "['The Caribbean', 'Central America']\n",
      "['Nicaragua', 'Honduras']\n",
      "['Antilles', 'Venezuela', 'Colombia', 'United States East Coast', 'Atlantic Canada']\n",
      "['Cape Verde', 'The Caribbean', 'British Virgin Islands', 'U.S. Virgin Islands', 'Cuba', 'Florida']\n",
      "['Lesser Antilles', 'Virgin Islands', 'Puerto Rico', 'Dominican Republic', 'Turks and Caicos Islands']\n",
      "['Central America', 'United States Gulf Coast (especially Florida Panhandle)']\n"
     ]
    }
   ],
   "source": [
    "\n",
    "for key, value in base_table.items():\n",
    "    print(value['Areas Affected'])"
   ]
  },
  {
   "cell_type": "code",
   "execution_count": 51,
   "metadata": {},
   "outputs": [],
   "source": [
    "def count_areas(mytable):\n",
    "    temp_list = []\n",
    "    temp_dict = {}\n",
    "    for key, value in mytable.items():\n",
    "        temp_list += value['Areas Affected']\n",
    "    for i in temp_list:\n",
    "        temp_dict.setdefault(i,0)\n",
    "        temp_dict.update({i:temp_dict[i] + 1})\n",
    "    return temp_dict"
   ]
  },
  {
   "cell_type": "code",
   "execution_count": 53,
   "metadata": {},
   "outputs": [],
   "source": [
    "areas_counted = count_areas(base_table)"
   ]
  },
  {
   "cell_type": "code",
   "execution_count": 72,
   "metadata": {},
   "outputs": [],
   "source": [
    "def top_impacted(mytable):\n",
    "    temp_dict = {}\n",
    "    for key, value in sorted(mytable.items(), key=lambda item: item[1], reverse = True):\n",
    "        temp_dict.setdefault(key, value)\n",
    "        return temp_dict\n"
   ]
  },
  {
   "cell_type": "code",
   "execution_count": 73,
   "metadata": {},
   "outputs": [
    {
     "data": {
      "text/plain": [
       "{'Central America': 9}"
      ]
     },
     "execution_count": 73,
     "metadata": {},
     "output_type": "execute_result"
    }
   ],
   "source": [
    "top_impacted(areas_counted)"
   ]
  },
  {
   "cell_type": "code",
   "execution_count": 77,
   "metadata": {},
   "outputs": [
    {
     "name": "stdout",
     "output_type": "stream",
     "text": [
      "90\n",
      "4000\n",
      "16\n",
      "3103\n",
      "179\n",
      "184\n",
      "408\n",
      "682\n",
      "5\n",
      "1023\n",
      "43\n",
      "319\n",
      "688\n",
      "259\n",
      "37\n",
      "11\n",
      "2068\n",
      "269\n",
      "318\n",
      "107\n",
      "65\n",
      "19325\n",
      "51\n",
      "124\n",
      "17\n",
      "1836\n",
      "125\n",
      "87\n",
      "45\n",
      "133\n",
      "603\n",
      "138\n",
      "3057\n",
      "74\n"
     ]
    }
   ],
   "source": [
    "for key, value in base_table.items():\n",
    "    print(value['Deaths'])"
   ]
  },
  {
   "cell_type": "code",
   "execution_count": 78,
   "metadata": {},
   "outputs": [],
   "source": [
    "def count_deaths(mytable):\n",
    "    temp_dict = {}\n",
    "    for key, value in mytable.items():\n",
    "        temp_dict.setdefault(key,0)\n",
    "        temp_dict.update({key:value['Deaths']})\n",
    "    return temp_dict"
   ]
  },
  {
   "cell_type": "code",
   "execution_count": 80,
   "metadata": {},
   "outputs": [],
   "source": [
    "deaths_counted = count_deaths(base_table)"
   ]
  },
  {
   "cell_type": "code",
   "execution_count": 81,
   "metadata": {},
   "outputs": [],
   "source": [
    "def top_deaths(mytable):\n",
    "    temp_dict = {}\n",
    "    for key, value in sorted(mytable.items(), key=lambda item: item[1], reverse = True):\n",
    "        temp_dict.setdefault(key, value)\n",
    "    return temp_dict"
   ]
  },
  {
   "cell_type": "code",
   "execution_count": 84,
   "metadata": {},
   "outputs": [],
   "source": [
    "sorted_top_deaths = top_deaths(deaths_counted)"
   ]
  },
  {
   "cell_type": "code",
   "execution_count": 87,
   "metadata": {},
   "outputs": [
    {
     "name": "stdout",
     "output_type": "stream",
     "text": [
      "Mitch: 19325\n",
      "San Felipe II Okeechobee: 4000\n",
      "Cuba II: 3103\n",
      "Maria: 3057\n",
      "David: 2068\n",
      "Katrina: 1836\n",
      "Janet: 1023\n",
      "Beulah: 688\n",
      "New England: 682\n",
      "Matthew: 603\n",
      "Labor Day: 408\n",
      "Hattie: 319\n",
      "Gilbert: 318\n",
      "Allen: 269\n",
      "Camille: 259\n",
      "Tampico: 184\n",
      "CubaBrownsville: 179\n",
      "Irma: 138\n",
      "Felix: 133\n",
      "Rita: 125\n",
      "Ivan: 124\n",
      "Hugo: 107\n",
      "Cuba I: 90\n",
      "Wilma: 87\n",
      "Michael: 74\n",
      "Andrew: 65\n",
      "Isabel: 51\n",
      "Dean: 45\n",
      "Carla: 43\n",
      "Edith: 37\n",
      "Emily: 17\n",
      "Bahamas: 16\n",
      "Anita: 11\n",
      "Carol: 5\n"
     ]
    }
   ],
   "source": [
    "for key, value in sorted_top_deaths.items():\n",
    "    print('%s: %s' % (key, value))"
   ]
  },
  {
   "cell_type": "code",
   "execution_count": 88,
   "metadata": {},
   "outputs": [],
   "source": [
    "mortality_scale = {0:0, 1: 100, 2: 500, 3: 1000, 4: 10000}"
   ]
  },
  {
   "cell_type": "code",
   "execution_count": 91,
   "metadata": {},
   "outputs": [],
   "source": [
    "def mortality_rating(mytable, scale):\n",
    "    new_dict = {}\n",
    "    for key, value in mytable.items():\n",
    "        current_cane = value\n",
    "        if value['Deaths'] > 0 and value['Deaths'] <= 100:\n",
    "            new_dict.setdefault(0, [])\n",
    "            new_dict[0].append(current_cane)\n",
    "        elif value['Deaths'] > 100 and value['Deaths'] <= 500:\n",
    "            new_dict.setdefault(1, [])\n",
    "            new_dict[1].append(current_cane)\n",
    "        elif value['Deaths'] > 500 and value['Deaths'] <= 1000:\n",
    "            new_dict.setdefault(2, [])\n",
    "            new_dict[2].append(current_cane)\n",
    "        elif value['Deaths'] > 1000 and value['Deaths'] <= 1000:\n",
    "            new_dict.setdefault(3, [])\n",
    "            new_dict[3].append(current_cane)\n",
    "        elif value['Deaths'] > 1000 and value['Deaths'] <= 10000:\n",
    "            new_dict.setdefault(4, [])\n",
    "            new_dict[4].append(current_cane)\n",
    "        elif value['Deaths'] > 10000:\n",
    "            new_dict.setdefault(5, [])\n",
    "            new_dict[5].append(current_cane)\n",
    "    return new_dict"
   ]
  },
  {
   "cell_type": "code",
   "execution_count": 94,
   "metadata": {},
   "outputs": [],
   "source": [
    "canes_by_mortality = mortality_rating(base_table, mortality_scale)"
   ]
  },
  {
   "cell_type": "code",
   "execution_count": 120,
   "metadata": {},
   "outputs": [
    {
     "name": "stdout",
     "output_type": "stream",
     "text": [
      "Mitch\n"
     ]
    }
   ],
   "source": [
    "for i in canes_by_mortality[5]:\n",
    "    print(i['Name'])"
   ]
  },
  {
   "cell_type": "code",
   "execution_count": 128,
   "metadata": {},
   "outputs": [],
   "source": [
    "def greatest_damage(mytable):\n",
    "    greatest_expense = 0\n",
    "    greatest_cane = {}\n",
    "    for key, value in mytable.items():\n",
    "        if value['Damage'] == 'Damages not recorded':\n",
    "            pass\n",
    "        elif int(value['Damage']) > greatest_expense:\n",
    "            greatest_expense = value['Damage']\n",
    "            greatest_cane = value\n",
    "    return greatest_cane"
   ]
  },
  {
   "cell_type": "code",
   "execution_count": 129,
   "metadata": {},
   "outputs": [
    {
     "name": "stdout",
     "output_type": "stream",
     "text": [
      "{'Name': 'Katrina', 'Month': 'August', 'Year': 2005, 'Max Sustained Wind': 175, 'Areas Affected': ['Bahamas', 'United States Gulf Coast'], 'Damage': 125000000000.0, 'Deaths': 1836}\n"
     ]
    }
   ],
   "source": [
    "print(greatest_damage(base_table))"
   ]
  },
  {
   "cell_type": "code",
   "execution_count": 152,
   "metadata": {},
   "outputs": [],
   "source": [
    "def damage_rating(mytable):\n",
    "    new_dict = {}\n",
    "    for key, value in mytable.items():\n",
    "        current_cane = value\n",
    "        if value['Damage'] == 'Damages not recorded' or int(value['Deaths']) == 0:\n",
    "            new_dict.setdefault(0, [])\n",
    "            new_dict[0].append(current_cane)\n",
    "        elif value['Damage'] > damage_scale[0] and value['Damage'] <= damage_scale[1]:\n",
    "            new_dict.setdefault(1, [])\n",
    "            new_dict[1].append(current_cane)\n",
    "        elif value['Damage'] > damage_scale[1] and value['Damage'] <= damage_scale[2]:\n",
    "            new_dict.setdefault(2, [])\n",
    "            new_dict[2].append(current_cane)\n",
    "        elif value['Damage'] > damage_scale[2] and value['Damage'] <= damage_scale[3]:\n",
    "            new_dict.setdefault(3, [])\n",
    "            new_dict[3].append(current_cane)\n",
    "        elif value['Damage'] > damage_scale[3] and value['Damage'] <= damage_scale[4]:\n",
    "            new_dict.setdefault(4, [])\n",
    "            new_dict[4].append(current_cane)\n",
    "        elif value['Damage'] > damage_scale[4]:\n",
    "            new_dict.setdefault(5, [])\n",
    "            new_dict[5].append(current_cane)\n",
    "    return new_dict"
   ]
  },
  {
   "cell_type": "code",
   "execution_count": 130,
   "metadata": {},
   "outputs": [],
   "source": [
    "damage_scale = {0: 0, 1: 100000000, 2: 1000000000, 3: 10000000000, 4: 50000000000}"
   ]
  },
  {
   "cell_type": "code",
   "execution_count": 148,
   "metadata": {},
   "outputs": [],
   "source": [
    "canes_by_damage = damage_rating(base_table)"
   ]
  },
  {
   "cell_type": "code",
   "execution_count": 154,
   "metadata": {},
   "outputs": [
    {
     "data": {
      "text/plain": [
       "[{'Name': 'Cuba I',\n",
       "  'Month': 'October',\n",
       "  'Year': 1924,\n",
       "  'Max Sustained Wind': 165,\n",
       "  'Areas Affected': ['Central America',\n",
       "   'Mexico',\n",
       "   'Cuba',\n",
       "   'Florida',\n",
       "   'The Bahamas'],\n",
       "  'Damage': 'Damages not recorded',\n",
       "  'Deaths': 90},\n",
       " {'Name': 'Bahamas',\n",
       "  'Month': 'September',\n",
       "  'Year': 1932,\n",
       "  'Max Sustained Wind': 160,\n",
       "  'Areas Affected': ['The Bahamas', 'Northeastern United States'],\n",
       "  'Damage': 'Damages not recorded',\n",
       "  'Deaths': 16},\n",
       " {'Name': 'Labor Day',\n",
       "  'Month': 'September',\n",
       "  'Year': 1935,\n",
       "  'Max Sustained Wind': 185,\n",
       "  'Areas Affected': ['The Bahamas',\n",
       "   'Florida',\n",
       "   'Georgia',\n",
       "   'The Carolinas',\n",
       "   'Virginia'],\n",
       "  'Damage': 'Damages not recorded',\n",
       "  'Deaths': 408},\n",
       " {'Name': 'Anita',\n",
       "  'Month': 'September',\n",
       "  'Year': 1977,\n",
       "  'Max Sustained Wind': 175,\n",
       "  'Areas Affected': ['Mexico'],\n",
       "  'Damage': 'Damages not recorded',\n",
       "  'Deaths': 11}]"
      ]
     },
     "execution_count": 154,
     "metadata": {},
     "output_type": "execute_result"
    }
   ],
   "source": [
    "canes_by_damage[0]"
   ]
  },
  {
   "cell_type": "code",
   "execution_count": 143,
   "metadata": {},
   "outputs": [
    {
     "name": "stdout",
     "output_type": "stream",
     "text": [
      "{'Name': 'San Felipe II Okeechobee', 'Month': 'September', 'Year': 1928, 'Max Sustained Wind': 160, 'Areas Affected': ['Lesser Antilles', 'The Bahamas', 'United States East Coast', 'Atlantic Canada'], 'Damage': 100000000.0, 'Deaths': 4000}\n",
      "{'Name': 'Cuba II', 'Month': 'November', 'Year': 1932, 'Max Sustained Wind': 175, 'Areas Affected': ['Lesser Antilles', 'Jamaica', 'Cayman Islands', 'Cuba', 'The Bahamas', 'Bermuda'], 'Damage': 40000000.0, 'Deaths': 3103}\n",
      "{'Name': 'CubaBrownsville', 'Month': 'August', 'Year': 1933, 'Max Sustained Wind': 160, 'Areas Affected': ['The Bahamas', 'Cuba', 'Florida', 'Texas', 'Tamaulipas'], 'Damage': 27900000.0, 'Deaths': 179}\n",
      "{'Name': 'Tampico', 'Month': 'September', 'Year': 1933, 'Max Sustained Wind': 160, 'Areas Affected': ['Jamaica', 'Yucatn Peninsula'], 'Damage': 5000000.0, 'Deaths': 184}\n",
      "{'Name': 'Carol', 'Month': 'September', 'Year': 1953, 'Max Sustained Wind': 160, 'Areas Affected': ['Bermuda', 'New England', 'Atlantic Canada'], 'Damage': 2000000.0, 'Deaths': 5}\n",
      "{'Name': 'Janet', 'Month': 'September', 'Year': 1955, 'Max Sustained Wind': 175, 'Areas Affected': ['Lesser Antilles', 'Central America'], 'Damage': 65800000.0, 'Deaths': 1023}\n",
      "{'Name': 'Hattie', 'Month': 'October', 'Year': 1961, 'Max Sustained Wind': 160, 'Areas Affected': ['Central America'], 'Damage': 60300000.0, 'Deaths': 319}\n",
      "{'Name': 'Edith', 'Month': 'September', 'Year': 1971, 'Max Sustained Wind': 160, 'Areas Affected': ['The Caribbean', 'Central America', 'Mexico', 'United States Gulf Coast'], 'Damage': 25400000.0, 'Deaths': 37}\n"
     ]
    }
   ],
   "source": [
    "for key, value in base_table.items():\n",
    "    if value['Damage'] == 'Damages not recorded':\n",
    "        pass\n",
    "    elif int(value['Damage']) <= damage_scale[1]:\n",
    "        print(value)"
   ]
  }
 ],
 "metadata": {
  "kernelspec": {
   "display_name": "Python 3",
   "language": "python",
   "name": "python3"
  },
  "language_info": {
   "codemirror_mode": {
    "name": "ipython",
    "version": 3
   },
   "file_extension": ".py",
   "mimetype": "text/x-python",
   "name": "python",
   "nbconvert_exporter": "python",
   "pygments_lexer": "ipython3",
   "version": "3.8.3"
  }
 },
 "nbformat": 4,
 "nbformat_minor": 4
}
